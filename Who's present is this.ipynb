{
 "cells": [
  {
   "cell_type": "markdown",
   "metadata": {},
   "source": [
    "# The greatest innovation in Christmas present giving since presents were invented!\n",
    "\n",
    "Well, I found we had some numbered present tags and I thought that these seem to be a great innovation and save having to write everyone's name.  Phew! Then it's a simple matter of checking the present number against the online database to find out who to give it to.  Simples.  So efficient!\n",
    "\n",
    "So, first of all, type your name in the box below:"
   ]
  },
  {
   "cell_type": "code",
   "execution_count": null,
   "metadata": {
    "hide_input": true
   },
   "outputs": [],
   "source": [
    "name = input()\n",
    "print('\\nHello ' + name + '! Hope you enjoy using this service.')"
   ]
  },
  {
   "cell_type": "code",
   "execution_count": null,
   "metadata": {
    "hide_input": true
   },
   "outputs": [],
   "source": [
    "import time\n",
    "\n",
    "presents = {3 :  \"Trognon\",\n",
    "4 : \"Trognon\",\n",
    "7 : \"Muzzletoff\",\n",
    "16 : \"Muzzletoff\",\n",
    "17 : \"Nico\",\n",
    "22 : \"Nico\" }"
   ]
  },
  {
   "cell_type": "markdown",
   "metadata": {},
   "source": [
    "Now, what is the number of the parcel?  Type it in below:"
   ]
  },
  {
   "cell_type": "code",
   "execution_count": null,
   "metadata": {
    "hide_input": true
   },
   "outputs": [],
   "source": [
    "x = int(input())"
   ]
  },
  {
   "cell_type": "markdown",
   "metadata": {},
   "source": [
    "Thank you.  Let me go and look that up.  Be right back.  OK, this present is for..."
   ]
  },
  {
   "cell_type": "code",
   "execution_count": null,
   "metadata": {
    "hide_input": true
   },
   "outputs": [],
   "source": [
    "recipient = presents.get(x)\n",
    "time.sleep(2)\n",
    "if recipient == None:\n",
    "    print('Oh dear, there is no recipient for that present.')\n",
    "else:\n",
    "    print('...', recipient, end =\"!  Enjoy!\")"
   ]
  },
  {
   "cell_type": "markdown",
   "metadata": {},
   "source": [
    "##  Thank you for using this service.  Merry Christmas!"
   ]
  }
 ],
 "metadata": {
  "hide_input": false,
  "kernelspec": {
   "display_name": "Python 3",
   "language": "python",
   "name": "python3"
  },
  "language_info": {
   "codemirror_mode": {
    "name": "ipython",
    "version": 3
   },
   "file_extension": ".py",
   "mimetype": "text/x-python",
   "name": "python",
   "nbconvert_exporter": "python",
   "pygments_lexer": "ipython3",
   "version": "3.8.3"
  }
 },
 "nbformat": 4,
 "nbformat_minor": 4
}
